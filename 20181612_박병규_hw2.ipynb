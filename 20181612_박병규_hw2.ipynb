{
  "nbformat": 4,
  "nbformat_minor": 0,
  "metadata": {
    "colab": {
      "name": "데이터과학 hw2",
      "provenance": [],
      "collapsed_sections": []
    },
    "kernelspec": {
      "name": "python3",
      "display_name": "Python 3"
    },
    "language_info": {
      "name": "python"
    }
  },
  "cells": [
    {
      "cell_type": "markdown",
      "metadata": {
        "id": "YcmWMkb1Vjb7"
      },
      "source": [
        "## Pytorch로 Logistic Regression 구현"
      ]
    },
    {
      "cell_type": "code",
      "metadata": {
        "id": "pu8sB3tNqNgs"
      },
      "source": [
        "import torch\n",
        "\n",
        "x_train = torch.FloatTensor([[1],[2],[3],[4],[5],[2.5],[3.5],[0],[3.1],[2.7],[2.8],[2.9]])\n",
        "y_train = torch.FloatTensor([[1],[1],[1],[0],[0],[0],[0],[1],[0],[1],[1],[1]])"
      ],
      "execution_count": 88,
      "outputs": []
    },
    {
      "cell_type": "code",
      "metadata": {
        "id": "Wrk16VsSPQco"
      },
      "source": [
        "W = torch.zeros(1,1)\n",
        "b = torch.zeros(1,1)\n",
        "\n",
        "lr = 1.0"
      ],
      "execution_count": 89,
      "outputs": []
    },
    {
      "cell_type": "code",
      "metadata": {
        "colab": {
          "base_uri": "https://localhost:8080/"
        },
        "id": "ryFgjVvEFFjk",
        "outputId": "905d7f58-7f57-4bdd-c2e3-b52dbf0bf0c1"
      },
      "source": [
        "for epoch in range(3001):\n",
        " W.requires_grad_(True)\n",
        " b.requires_grad_(True)\n",
        " \n",
        " hypothesis = torch.sigmoid(torch.mm(x_train, W) + b)\n",
        " cost = torch.mean(\n",
        " -y_train * torch.log(hypothesis)\n",
        " -(1 - y_train) * torch.log(1 - hypothesis)\n",
        " )\n",
        "\n",
        " cost.backward()\n",
        " with torch.no_grad() as grd:\n",
        "  W = W - lr * W.grad\n",
        "  b = b - lr * b.grad\n",
        "\n",
        " if epoch % 300 == 0:\n",
        "  print( 'epoch: {}, cost: {:.6f}, w:{:.6f}, b:{:.6f}'.format(epoch, cost.item(), W.squeeze(),b.squeeze()))"
      ],
      "execution_count": 90,
      "outputs": [
        {
          "output_type": "stream",
          "name": "stdout",
          "text": [
            "epoch: 0, cost: 0.693147, w:-0.154167, b:0.083333\n",
            "epoch: 300, cost: 0.390820, w:-2.174322, b:6.609553\n",
            "epoch: 600, cost: 0.383699, w:-2.620779, b:7.953164\n",
            "epoch: 900, cost: 0.382149, w:-2.832521, b:8.587363\n",
            "epoch: 1200, cost: 0.381706, w:-2.946401, b:8.927779\n",
            "epoch: 1500, cost: 0.381565, w:-3.010968, b:9.120598\n",
            "epoch: 1800, cost: 0.381517, w:-3.048561, b:9.232802\n",
            "epoch: 2100, cost: 0.381500, w:-3.070765, b:9.299053\n",
            "epoch: 2400, cost: 0.381494, w:-3.083991, b:9.338510\n",
            "epoch: 2700, cost: 0.381492, w:-3.091908, b:9.362126\n",
            "epoch: 3000, cost: 0.381491, w:-3.096662, b:9.376306\n"
          ]
        }
      ]
    },
    {
      "cell_type": "code",
      "metadata": {
        "colab": {
          "base_uri": "https://localhost:8080/"
        },
        "id": "7bBaco_kQVsw",
        "outputId": "0641aff1-38ca-4ca5-bb62-3989fe92b1c1"
      },
      "source": [
        "x_test = torch.FloatTensor([[4.5],[1.1]])\n",
        "test_result = torch.sigmoid(torch.mm(x_test, W) + b)\n",
        "print(torch.round(test_result))"
      ],
      "execution_count": 91,
      "outputs": [
        {
          "output_type": "stream",
          "name": "stdout",
          "text": [
            "tensor([[0.],\n",
            "        [1.]])\n"
          ]
        }
      ]
    },
    {
      "cell_type": "code",
      "metadata": {
        "id": "zF6mGQuLQ_iN"
      },
      "source": [
        "## 다양한 optimizer\n",
        "\n",
        "optimizer = torch.optim.SGD([W,b], lr=1.0)\n",
        "optimizer = torch.optim.Adam([W,b], lr=1.0)\n",
        "optimizer = torch.optim.Adadelta([W,b])\n",
        "optimizer = torch.optim.Adagrad([W,b])\n",
        "optimizer = torch.optim.RMSprop([W,b])"
      ],
      "execution_count": 92,
      "outputs": []
    },
    {
      "cell_type": "markdown",
      "metadata": {
        "id": "ILbIEZ4iGwES"
      },
      "source": [
        "## SGD 사용해보기"
      ]
    },
    {
      "cell_type": "code",
      "metadata": {
        "colab": {
          "base_uri": "https://localhost:8080/"
        },
        "id": "-OSrgtlwF7jX",
        "outputId": "9f529796-e2de-480a-f4a7-14f784834d23"
      },
      "source": [
        "### SGD\n",
        "W = torch.zeros(1,1)\n",
        "b = torch.zeros(1,1)\n",
        "\n",
        "\n",
        "optimizer = torch.optim.SGD([W,b], lr=1.0)\n",
        "\n",
        "for epoch in range(3001):\n",
        "  W.requires_grad_(True)\n",
        "  b.requires_grad_(True)\n",
        " \n",
        "  hypothesis = torch.sigmoid(torch.mm(x_train, W) + b)\n",
        "  cost = torch.mean(\n",
        "  -y_train * torch.log(hypothesis)\n",
        "  -(1 - y_train) * torch.log(1 - hypothesis)\n",
        "  )\n",
        "\n",
        "  optimizer.zero_grad()\n",
        "  cost.backward()\n",
        "  optimizer.step()\n",
        "\n",
        "  if epoch % 300 == 0:\n",
        "    print( 'epoch: {}, cost: {:.6f}, w:{:.6f}, b:{:.6f}'.format(epoch, cost.item(), W.squeeze(),b.squeeze()))"
      ],
      "execution_count": 93,
      "outputs": [
        {
          "output_type": "stream",
          "name": "stdout",
          "text": [
            "epoch: 0, cost: 0.693147, w:-0.154167, b:0.083333\n",
            "epoch: 300, cost: 0.390820, w:-2.174322, b:6.609553\n",
            "epoch: 600, cost: 0.383699, w:-2.620779, b:7.953164\n",
            "epoch: 900, cost: 0.382149, w:-2.832521, b:8.587363\n",
            "epoch: 1200, cost: 0.381706, w:-2.946401, b:8.927779\n",
            "epoch: 1500, cost: 0.381565, w:-3.010968, b:9.120598\n",
            "epoch: 1800, cost: 0.381517, w:-3.048561, b:9.232802\n",
            "epoch: 2100, cost: 0.381500, w:-3.070765, b:9.299053\n",
            "epoch: 2400, cost: 0.381494, w:-3.083991, b:9.338510\n",
            "epoch: 2700, cost: 0.381492, w:-3.091908, b:9.362126\n",
            "epoch: 3000, cost: 0.381491, w:-3.096662, b:9.376306\n"
          ]
        }
      ]
    },
    {
      "cell_type": "code",
      "metadata": {
        "colab": {
          "base_uri": "https://localhost:8080/"
        },
        "id": "Lw2e3P75GDVL",
        "outputId": "cdae8e56-f004-4bef-dbaa-bd64f5e93cd4"
      },
      "source": [
        "x_test = torch.FloatTensor([[4.5],[1.1]])\n",
        "test_result = torch.sigmoid(torch.mm(x_test, W) + b)\n",
        "print(torch.round(test_result))"
      ],
      "execution_count": 94,
      "outputs": [
        {
          "output_type": "stream",
          "name": "stdout",
          "text": [
            "tensor([[0.],\n",
            "        [1.]], grad_fn=<RoundBackward>)\n"
          ]
        }
      ]
    },
    {
      "cell_type": "markdown",
      "metadata": {
        "id": "KUskJTGUGhzn"
      },
      "source": [
        "## Adam optimizer 써보기"
      ]
    },
    {
      "cell_type": "code",
      "metadata": {
        "colab": {
          "base_uri": "https://localhost:8080/"
        },
        "id": "r9tUMF6vGHRY",
        "outputId": "a216909b-6752-423f-ec34-5874a97ce8dd"
      },
      "source": [
        "### Adam\n",
        "W = torch.zeros(1,1)\n",
        "b = torch.zeros(1,1)\n",
        "\n",
        "optimizer = torch.optim.Adam([W,b], lr=0.5)\n",
        "\n",
        "for epoch in range(3001):\n",
        "  W.requires_grad_(True)\n",
        "  b.requires_grad_(True)\n",
        " \n",
        "  hypothesis = torch.sigmoid(torch.mm(x_train, W) + b)\n",
        "  cost = torch.mean(\n",
        "  -y_train * torch.log(hypothesis)\n",
        "  -(1 - y_train) * torch.log(1 - hypothesis)\n",
        "  )\n",
        "\n",
        "  optimizer.zero_grad()\n",
        "  cost.backward()\n",
        "  optimizer.step()\n",
        "\n",
        "  if epoch % 300 == 0:\n",
        "    print( 'epoch: {}, cost: {:.6f}, w:{:.6f}, b:{:.6f}'.format(epoch, cost.item(), W.squeeze(),b.squeeze()))"
      ],
      "execution_count": 95,
      "outputs": [
        {
          "output_type": "stream",
          "name": "stdout",
          "text": [
            "epoch: 0, cost: 0.693147, w:-0.500000, b:0.500000\n",
            "epoch: 300, cost: 0.381491, w:-3.103778, b:9.397531\n",
            "epoch: 600, cost: 0.381491, w:-3.103853, b:9.397752\n",
            "epoch: 900, cost: 0.381491, w:-3.103853, b:9.397752\n",
            "epoch: 1200, cost: 0.381491, w:-3.103853, b:9.397752\n",
            "epoch: 1500, cost: 0.381491, w:-3.103853, b:9.397752\n",
            "epoch: 1800, cost: 0.381491, w:-3.103853, b:9.397752\n",
            "epoch: 2100, cost: 0.381491, w:-3.103769, b:9.396234\n",
            "epoch: 2400, cost: 0.381491, w:-3.103853, b:9.397754\n",
            "epoch: 2700, cost: 0.381491, w:-3.103853, b:9.397754\n",
            "epoch: 3000, cost: 0.381491, w:-3.103853, b:9.397754\n"
          ]
        }
      ]
    },
    {
      "cell_type": "code",
      "metadata": {
        "colab": {
          "base_uri": "https://localhost:8080/"
        },
        "id": "k_dqy-HYGPI5",
        "outputId": "425f4af7-340e-4d08-c761-c30c88d672b2"
      },
      "source": [
        "x_test = torch.FloatTensor([[4.5],[1.1]])\n",
        "test_result = torch.sigmoid(torch.mm(x_test, W) + b)\n",
        "print(torch.round(test_result))"
      ],
      "execution_count": 96,
      "outputs": [
        {
          "output_type": "stream",
          "name": "stdout",
          "text": [
            "tensor([[0.],\n",
            "        [1.]], grad_fn=<RoundBackward>)\n"
          ]
        }
      ]
    },
    {
      "cell_type": "markdown",
      "metadata": {
        "id": "X9l36JBPHSaH"
      },
      "source": [
        "## Adadelta 써보기"
      ]
    },
    {
      "cell_type": "code",
      "metadata": {
        "colab": {
          "base_uri": "https://localhost:8080/"
        },
        "id": "Du2PbFI6HYuf",
        "outputId": "f7a54276-fae9-452c-9b0e-a2ad17435d78"
      },
      "source": [
        "### Adadelta\n",
        "W = torch.zeros(1,1)\n",
        "b = torch.zeros(1,1)\n",
        "\n",
        "\n",
        "optimizer = torch.optim.Adadelta([W,b])\n",
        "\n",
        "for epoch in range(3001):\n",
        "  W.requires_grad_(True)\n",
        "  b.requires_grad_(True)\n",
        " \n",
        "  hypothesis = torch.sigmoid(torch.mm(x_train, W) + b)\n",
        "  cost = torch.mean(\n",
        "  -y_train * torch.log(hypothesis)\n",
        "  -(1 - y_train) * torch.log(1 - hypothesis)\n",
        "  )\n",
        "\n",
        "  optimizer.zero_grad()\n",
        "  cost.backward()\n",
        "  optimizer.step()\n",
        "\n",
        "  if epoch % 300 == 0:\n",
        "    print( 'epoch: {}, cost: {:.6f}, w:{:.6f}, b:{:.6f}'.format(epoch, cost.item(), W.squeeze(),b.squeeze()))"
      ],
      "execution_count": 97,
      "outputs": [
        {
          "output_type": "stream",
          "name": "stdout",
          "text": [
            "epoch: 0, cost: 0.693147, w:-0.003162, b:0.003160\n",
            "epoch: 300, cost: 0.537192, w:-0.537830, b:1.522116\n",
            "epoch: 600, cost: 0.458038, w:-1.015019, b:3.038627\n",
            "epoch: 900, cost: 0.417649, w:-1.490835, b:4.520365\n",
            "epoch: 1200, cost: 0.396584, w:-1.962220, b:5.964028\n",
            "epoch: 1500, cost: 0.386648, w:-2.389365, b:7.257202\n",
            "epoch: 1800, cost: 0.382993, w:-2.701013, b:8.193676\n",
            "epoch: 2100, cost: 0.381953, w:-2.875364, b:8.715486\n",
            "epoch: 2400, cost: 0.381644, w:-2.970553, b:8.999921\n",
            "epoch: 2700, cost: 0.381544, w:-3.024969, b:9.162389\n",
            "epoch: 3000, cost: 0.381510, w:-3.056807, b:9.257407\n"
          ]
        }
      ]
    },
    {
      "cell_type": "code",
      "metadata": {
        "colab": {
          "base_uri": "https://localhost:8080/"
        },
        "id": "26Eqzlj-HfUs",
        "outputId": "549debca-cb73-450e-f158-90d14abb99ec"
      },
      "source": [
        "x_test = torch.FloatTensor([[4.5],[1.1]])\n",
        "test_result = torch.sigmoid(torch.mm(x_test, W) + b)\n",
        "print(torch.round(test_result))"
      ],
      "execution_count": 98,
      "outputs": [
        {
          "output_type": "stream",
          "name": "stdout",
          "text": [
            "tensor([[0.],\n",
            "        [1.]], grad_fn=<RoundBackward>)\n"
          ]
        }
      ]
    },
    {
      "cell_type": "markdown",
      "metadata": {
        "id": "qEuOca_SHp8J"
      },
      "source": [
        "## Adagrad 사용해보기\n"
      ]
    },
    {
      "cell_type": "code",
      "metadata": {
        "colab": {
          "base_uri": "https://localhost:8080/"
        },
        "id": "1PhwB18fHw1M",
        "outputId": "8a28a043-aec4-4e76-fbc9-7976c0fabfde"
      },
      "source": [
        "### Adagrad\n",
        "W = torch.zeros(1,1)\n",
        "b = torch.zeros(1,1)\n",
        "\n",
        "optimizer = torch.optim.Adagrad([W,b])\n",
        "\n",
        "for epoch in range(3001):\n",
        "  W.requires_grad_(True)\n",
        "  b.requires_grad_(True)\n",
        " \n",
        "  hypothesis = torch.sigmoid(torch.mm(x_train, W) + b)\n",
        "  cost = torch.mean(\n",
        "  -y_train * torch.log(hypothesis)\n",
        "  -(1 - y_train) * torch.log(1 - hypothesis)\n",
        "  )\n",
        "\n",
        "  optimizer.zero_grad()\n",
        "  cost.backward()\n",
        "  optimizer.step()\n",
        "\n",
        "  if epoch % 300 == 0:\n",
        "    print( 'epoch: {}, cost: {:.6f}, w:{:.6f}, b:{:.6f}'.format(epoch, cost.item(), W.squeeze(),b.squeeze()))"
      ],
      "execution_count": 99,
      "outputs": [
        {
          "output_type": "stream",
          "name": "stdout",
          "text": [
            "epoch: 0, cost: 0.693147, w:-0.010000, b:0.010000\n",
            "epoch: 300, cost: 0.645402, w:-0.170435, b:0.345706\n",
            "epoch: 600, cost: 0.629598, w:-0.214993, b:0.485882\n",
            "epoch: 900, cost: 0.618306, w:-0.247934, b:0.590929\n",
            "epoch: 1200, cost: 0.609294, w:-0.275112, b:0.678000\n",
            "epoch: 1500, cost: 0.601714, w:-0.298676, b:0.753654\n",
            "epoch: 1800, cost: 0.595136, w:-0.319701, b:0.821231\n",
            "epoch: 2100, cost: 0.589307, w:-0.338818, b:0.882707\n",
            "epoch: 2400, cost: 0.584064, w:-0.356431, b:0.939364\n",
            "epoch: 2700, cost: 0.579294, w:-0.372822, b:0.992093\n",
            "epoch: 3000, cost: 0.574915, w:-0.388193, b:1.041539\n"
          ]
        }
      ]
    },
    {
      "cell_type": "code",
      "metadata": {
        "colab": {
          "base_uri": "https://localhost:8080/"
        },
        "id": "7HjUj-5OH4Ke",
        "outputId": "218a2af2-1725-4222-8514-a8d2be11060c"
      },
      "source": [
        "x_test = torch.FloatTensor([[4.5],[1.1]])\n",
        "test_result = torch.sigmoid(torch.mm(x_test, W) + b)\n",
        "print(torch.round(test_result))"
      ],
      "execution_count": 100,
      "outputs": [
        {
          "output_type": "stream",
          "name": "stdout",
          "text": [
            "tensor([[0.],\n",
            "        [1.]], grad_fn=<RoundBackward>)\n"
          ]
        }
      ]
    },
    {
      "cell_type": "markdown",
      "metadata": {
        "id": "p671vCdkH6n0"
      },
      "source": [
        "## RMSprop 사용하기"
      ]
    },
    {
      "cell_type": "code",
      "metadata": {
        "colab": {
          "base_uri": "https://localhost:8080/"
        },
        "id": "9Kqp7i6NH-6H",
        "outputId": "48bb26ac-07a3-4c65-833e-3fbfa55b1f3a"
      },
      "source": [
        "### RMSprop\n",
        "W = torch.zeros(1,1)\n",
        "b = torch.zeros(1,1)\n",
        "\n",
        "optimizer = torch.optim.RMSprop([W,b])\n",
        "\n",
        "for epoch in range(3001):\n",
        "  W.requires_grad_(True)\n",
        "  b.requires_grad_(True)\n",
        " \n",
        "  hypothesis = torch.sigmoid(torch.mm(x_train, W) + b)\n",
        "  cost = torch.mean(\n",
        "  -y_train * torch.log(hypothesis)\n",
        "  -(1 - y_train) * torch.log(1 - hypothesis)\n",
        "  )\n",
        "\n",
        "  optimizer.zero_grad()\n",
        "  cost.backward()\n",
        "  optimizer.step()\n",
        "\n",
        "  if epoch % 300 == 0:\n",
        "    print( 'epoch: {}, cost: {:.6f}, w:{:.6f}, b:{:.6f}'.format(epoch, cost.item(), W.squeeze(),b.squeeze()))"
      ],
      "execution_count": 101,
      "outputs": [
        {
          "output_type": "stream",
          "name": "stdout",
          "text": [
            "epoch: 0, cost: 0.693147, w:-0.100000, b:0.100000\n",
            "epoch: 300, cost: 0.444874, w:-1.143202, b:3.429768\n",
            "epoch: 600, cost: 0.402613, w:-1.803058, b:5.454574\n",
            "epoch: 900, cost: 0.386319, w:-2.417708, b:7.325363\n",
            "epoch: 1200, cost: 0.381972, w:-2.881316, b:8.716043\n",
            "epoch: 1500, cost: 0.381534, w:-3.062076, b:9.253578\n",
            "epoch: 1800, cost: 0.381516, w:-3.100250, b:9.367140\n",
            "epoch: 2100, cost: 0.381516, w:-3.107428, b:9.388515\n",
            "epoch: 2400, cost: 0.381516, w:-3.108773, b:9.392519\n",
            "epoch: 2700, cost: 0.381516, w:-3.109025, b:9.393265\n",
            "epoch: 3000, cost: 0.381516, w:-3.109075, b:9.393414\n"
          ]
        }
      ]
    },
    {
      "cell_type": "code",
      "metadata": {
        "colab": {
          "base_uri": "https://localhost:8080/"
        },
        "id": "U_fETpJBIJZU",
        "outputId": "814cef77-1438-4c4e-9149-60d659add317"
      },
      "source": [
        "x_test = torch.FloatTensor([[4.5],[1.1]])\n",
        "test_result = torch.sigmoid(torch.mm(x_test, W) + b)\n",
        "print(torch.round(test_result))"
      ],
      "execution_count": 102,
      "outputs": [
        {
          "output_type": "stream",
          "name": "stdout",
          "text": [
            "tensor([[0.],\n",
            "        [1.]], grad_fn=<RoundBackward>)\n"
          ]
        }
      ]
    },
    {
      "cell_type": "markdown",
      "metadata": {
        "id": "zw4Bdsj7IRar"
      },
      "source": [
        "## Matplotlib 결과 시각화\n"
      ]
    },
    {
      "cell_type": "code",
      "metadata": {
        "colab": {
          "base_uri": "https://localhost:8080/",
          "height": 265
        },
        "id": "Xxvt_n4KIUkS",
        "outputId": "8883f035-3733-4ce9-fee2-8ec80b935fcc"
      },
      "source": [
        "import matplotlib.pyplot as plt\n",
        "\n",
        "## 기본 형태\n",
        "\n",
        "W.requires_grad_(False)\n",
        "b.requires_grad_(False)\n",
        "plt.scatter(x_train, y_train)\n",
        "\n",
        "X = torch.linspace(0,5,100).unsqueeze(1)\n",
        "Y = torch.sigmoid(torch.mm(X,W)+b)\n",
        "plt.plot(X,Y)\n",
        "plt.show()"
      ],
      "execution_count": 103,
      "outputs": [
        {
          "output_type": "display_data",
          "data": {
            "image/png": "[encoded data removed]",
            "text/plain": [
              "<Figure size 432x288 with 1 Axes>"
            ]
          },
          "metadata": {
            "needs_background": "light"
          }
        }
      ]
    },
    {
      "cell_type": "code",
      "metadata": {
        "colab": {
          "base_uri": "https://localhost:8080/",
          "height": 279
        },
        "id": "Wa_2cyr-Idx9",
        "outputId": "cd418724-fbb5-46fe-ccc9-f74d13ced254"
      },
      "source": [
        "### label 달기\n",
        "plt.ylabel(\"Probability of 1 (Y)\")\n",
        "plt.xlabel(\"Input (X)\")\n",
        "\n",
        "W.requires_grad_(False)\n",
        "b.requires_grad_(False)\n",
        "plt.scatter(x_train, y_train)\n",
        "\n",
        "X = torch.linspace(0,5,100).unsqueeze(1)\n",
        "Y = torch.sigmoid(torch.mm(X,W)+b)\n",
        "plt.plot(X,Y)\n",
        "plt.show()"
      ],
      "execution_count": 104,
      "outputs": [
        {
          "output_type": "display_data",
          "data": {
            "image/png": "[encoded data removed]",
            "text/plain": [
              "<Figure size 432x288 with 1 Axes>"
            ]
          },
          "metadata": {
            "needs_background": "light"
          }
        }
      ]
    },
    {
      "cell_type": "code",
      "metadata": {
        "colab": {
          "base_uri": "https://localhost:8080/",
          "height": 279
        },
        "id": "iL9bVGlRIrn8",
        "outputId": "7afe88d8-658c-4b98-ba3d-e031738e026e"
      },
      "source": [
        "### label 달기\n",
        "plt.ylabel(\"Probability of 1 (Y)\")\n",
        "plt.xlabel(\"Input (X)\")\n",
        "\n",
        "\n",
        "W.requires_grad_(False)\n",
        "b.requires_grad_(False)\n",
        "\n",
        "### 점과 선의 색 변경\n",
        "plt.scatter(x_train, y_train, c = 'black')\n",
        "\n",
        "X = torch.linspace(0,5,100).unsqueeze(1)\n",
        "Y = torch.sigmoid(torch.mm(X,W)+b)\n",
        "plt.plot(X,Y, c = \"#ff0000\")\n",
        "plt.show()"
      ],
      "execution_count": 105,
      "outputs": [
        {
          "output_type": "display_data",
          "data": {
            "image/png": "[encoded data removed]",
            "text/plain": [
              "<Figure size 432x288 with 1 Axes>"
            ]
          },
          "metadata": {
            "needs_background": "light"
          }
        }
      ]
    },
    {
      "cell_type": "code",
      "metadata": {
        "colab": {
          "base_uri": "https://localhost:8080/",
          "height": 279
        },
        "id": "MMUVX6FoI8EO",
        "outputId": "26f17e02-8d46-4312-d040-f4d4d7b9e4ba"
      },
      "source": [
        "### label 달기\n",
        "plt.ylabel(\"Probability of 1 (Y)\")\n",
        "plt.xlabel(\"Input (X)\")\n",
        "\n",
        "\n",
        "W.requires_grad_(False)\n",
        "b.requires_grad_(False)\n",
        "\n",
        "### 점과 선의 색 변경\n",
        "plt.scatter(x_train, y_train, c = 'black', label = \"Training data\")\n",
        "\n",
        "X = torch.linspace(0,5,100).unsqueeze(1)\n",
        "Y = torch.sigmoid(torch.mm(X,W)+b)\n",
        "plt.plot(X,Y, c = \"#ff0000\", label = \"Fitting line\")\n",
        "\n",
        "### 범례 달기\n",
        "plt.legend()\n",
        "plt.show()"
      ],
      "execution_count": 106,
      "outputs": [
        {
          "output_type": "display_data",
          "data": {
            "image/png": "[encoded data removed]",
            "text/plain": [
              "<Figure size 432x288 with 1 Axes>"
            ]
          },
          "metadata": {
            "needs_background": "light"
          }
        }
      ]
    },
    {
      "cell_type": "code",
      "metadata": {
        "colab": {
          "base_uri": "https://localhost:8080/",
          "height": 279
        },
        "id": "SrQUTKkBJPb4",
        "outputId": "74a7d554-23bb-4cb3-b442-74ae20f84210"
      },
      "source": [
        "### 다양하게 시각화 해보기\n",
        "\n",
        "### label 달기\n",
        "plt.ylabel(\"Probability of 1 (Y)\")\n",
        "plt.xlabel(\"Input (X)\")\n",
        "\n",
        "\n",
        "W.requires_grad_(False)\n",
        "b.requires_grad_(False)\n",
        "\n",
        "\n",
        "plt.scatter(x_train, y_train, c = 'black', label = \"Training data\")\n",
        "X = torch.linspace(0,5,100).unsqueeze(1)\n",
        "Y = torch.sigmoid(torch.mm(X,W)+b)\n",
        "plt.plot(X,Y, c = \"#ff0000\", label = \"Fitting line\")\n",
        "\n",
        "### 그래프에 수치 표시하기\n",
        "# 처음 값\n",
        "plt.text(X[0],Y[0], Y[0],                \n",
        "        color='blue',\n",
        "        horizontalalignment='center', \n",
        "        verticalalignment='top')\n",
        "\n",
        "# 마지막 값\n",
        "plt.text(X[-1],Y[-1], Y[-1],                \n",
        "        color='blue',\n",
        "        horizontalalignment='center', \n",
        "        verticalalignment='top')    \n",
        "\n",
        "### 범례 달기\n",
        "plt.legend()\n",
        "\n",
        "### 그리드\n",
        "plt.grid(True)\n",
        "\n",
        "plt.show()"
      ],
      "execution_count": 107,
      "outputs": [
        {
          "output_type": "display_data",
          "data": {
            "image/png": "[encoded data removed]",
            "text/plain": [
              "<Figure size 432x288 with 1 Axes>"
            ]
          },
          "metadata": {
            "needs_background": "light"
          }
        }
      ]
    },
    {
      "cell_type": "markdown",
      "metadata": {
        "id": "RYB147GGQ-Mr"
      },
      "source": [
        "## Logistic Regression with sklearn"
      ]
    },
    {
      "cell_type": "code",
      "metadata": {
        "colab": {
          "base_uri": "https://localhost:8080/"
        },
        "id": "DLgf6kDjQ7WN",
        "outputId": "8ee4311d-b122-4756-94f7-2f331b953659"
      },
      "source": [
        "from sklearn.linear_model import LogisticRegression\n",
        "\n",
        "\n",
        "x_train = [[1],[2],[3],[4],[5],[2.5],[3.5],[0],[3.1],[2.7],[2.8],[2.9]]\n",
        "y_train = [1,1,1,0,0,0,0,1,0,1,1,1]         # 입력 shape이 pytorch에서와 다름에 주의!\n",
        "\n",
        "model = LogisticRegression(penalty='none')  # penalty (or regularization)은 추후 설명\n",
        "model.fit(x_train, y_train)\n",
        "\n",
        "\n",
        "#W와 b에 해당하는 값 출력\n",
        "print(model.coef_, model.intercept_)\n",
        "\n",
        "\n",
        "# 새로운 x값이 주어질 때 y값 예측해보기\n",
        "x_test = [[4.5],[1.1]]\n",
        "test_result = model.predict(x_test)\n",
        "print(test_result)\n"
      ],
      "execution_count": 108,
      "outputs": [
        {
          "output_type": "stream",
          "name": "stdout",
          "text": [
            "[[-3.10385806]] [9.39776831]\n",
            "[0 1]\n"
          ]
        }
      ]
    },
    {
      "cell_type": "markdown",
      "metadata": {
        "id": "tKnf4dD8Q4k1"
      },
      "source": [
        ""
      ]
    }
  ]
}