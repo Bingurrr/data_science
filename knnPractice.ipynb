{
  "nbformat": 4,
  "nbformat_minor": 0,
  "metadata": {
    "colab": {
      "name": "knnPractice.ipynb",
      "provenance": [],
      "collapsed_sections": []
    },
    "kernelspec": {
      "name": "python3",
      "display_name": "Python 3"
    },
    "language_info": {
      "name": "python"
    }
  },
  "cells": [
    {
      "cell_type": "code",
      "metadata": {
        "id": "ADuqSsft_e6u"
      },
      "source": [
        "## 사이킷런에서 데이터 로드\n",
        "\n",
        "from sklearn.datasets import load_iris\n",
        "a = load_iris()\n",
        "a['data']"
      ],
      "execution_count": null,
      "outputs": []
    },
    {
      "cell_type": "code",
      "metadata": {
        "colab": {
          "base_uri": "https://localhost:8080/"
        },
        "id": "96Sb-4egAY3R",
        "outputId": "6c6e2eb9-1e8a-4707-c9f4-f590f937a903"
      },
      "source": [
        "data = []\n",
        "\n",
        "for line in open(\"iris.data\", \"r\"):\n",
        "  try :\n",
        "    items = line.strip().split(\",\")\n",
        "    data.append(([float(i) for i in items[:4]], items[4]))\n",
        "  except :\n",
        "    pass\n",
        "data[0]"
      ],
      "execution_count": 2,
      "outputs": [
        {
          "output_type": "execute_result",
          "data": {
            "text/plain": [
              "([5.1, 3.5, 1.4, 0.2], 'Iris-setosa')"
            ]
          },
          "metadata": {},
          "execution_count": 2
        }
      ]
    },
    {
      "cell_type": "code",
      "metadata": {
        "colab": {
          "base_uri": "https://localhost:8080/",
          "height": 295
        },
        "id": "27rsd1W5CLOp",
        "outputId": "602f4a24-4cf0-4990-f066-60d7ae591855"
      },
      "source": [
        "import matplotlib.pyplot as plt\n",
        "classes = ['Iris-versicolor', 'Iris-virginica','Iris-setosa']\n",
        "\n",
        "\n",
        "x0 = []\n",
        "x1 = []\n",
        "plt.figure(figsize=(8,4.5))\n",
        "\n",
        "for c in classes :\n",
        "  x0 = []\n",
        "  x1 = []\n",
        "  for d in data:\n",
        "    if d[1] == c:\n",
        "      x0.append(d[0][0])\n",
        "      x1.append(d[0][1])\n",
        "  plt.scatter(x0,x1, alpha=0.3)\n",
        "\n",
        "\n",
        "plt.show()\n"
      ],
      "execution_count": 26,
      "outputs": [
        {
          "output_type": "display_data",
          "data": {
            "image/png": "[encoded data removed]",
            "text/plain": [
              "<Figure size 576x324 with 1 Axes>"
            ]
          },
          "metadata": {
            "needs_background": "light"
          }
        }
      ]
    },
    {
      "cell_type": "code",
      "metadata": {
        "colab": {
          "base_uri": "https://localhost:8080/"
        },
        "id": "1gJY7vpAC6Mp",
        "outputId": "b4db3f94-154b-47d0-e3a6-3fd413667560"
      },
      "source": [
        "import random\n",
        "\n",
        "random.shuffle(data)\n",
        "train = data[:-30]\n",
        "test = data[-30:]\n",
        "test"
      ],
      "execution_count": 4,
      "outputs": [
        {
          "output_type": "execute_result",
          "data": {
            "text/plain": [
              "[([6.3, 3.3, 6.0, 2.5], 'Iris-virginica'),\n",
              " ([6.5, 3.0, 5.8, 2.2], 'Iris-virginica'),\n",
              " ([5.1, 2.5, 3.0, 1.1], 'Iris-versicolor'),\n",
              " ([4.8, 3.4, 1.9, 0.2], 'Iris-setosa'),\n",
              " ([5.7, 4.4, 1.5, 0.4], 'Iris-setosa'),\n",
              " ([6.1, 2.6, 5.6, 1.4], 'Iris-virginica'),\n",
              " ([5.1, 3.8, 1.9, 0.4], 'Iris-setosa'),\n",
              " ([5.0, 3.2, 1.2, 0.2], 'Iris-setosa'),\n",
              " ([5.7, 3.8, 1.7, 0.3], 'Iris-setosa'),\n",
              " ([6.5, 2.8, 4.6, 1.5], 'Iris-versicolor'),\n",
              " ([6.4, 2.8, 5.6, 2.2], 'Iris-virginica'),\n",
              " ([5.9, 3.2, 4.8, 1.8], 'Iris-versicolor'),\n",
              " ([5.6, 2.8, 4.9, 2.0], 'Iris-virginica'),\n",
              " ([6.6, 3.0, 4.4, 1.4], 'Iris-versicolor'),\n",
              " ([5.7, 2.8, 4.5, 1.3], 'Iris-versicolor'),\n",
              " ([6.0, 2.9, 4.5, 1.5], 'Iris-versicolor'),\n",
              " ([6.7, 3.3, 5.7, 2.5], 'Iris-virginica'),\n",
              " ([5.6, 2.5, 3.9, 1.1], 'Iris-versicolor'),\n",
              " ([4.9, 3.1, 1.5, 0.1], 'Iris-setosa'),\n",
              " ([7.6, 3.0, 6.6, 2.1], 'Iris-virginica'),\n",
              " ([7.2, 3.6, 6.1, 2.5], 'Iris-virginica'),\n",
              " ([6.9, 3.1, 4.9, 1.5], 'Iris-versicolor'),\n",
              " ([6.7, 3.0, 5.0, 1.7], 'Iris-versicolor'),\n",
              " ([6.3, 2.8, 5.1, 1.5], 'Iris-virginica'),\n",
              " ([6.9, 3.2, 5.7, 2.3], 'Iris-virginica'),\n",
              " ([5.5, 2.4, 3.8, 1.1], 'Iris-versicolor'),\n",
              " ([4.6, 3.1, 1.5, 0.2], 'Iris-setosa'),\n",
              " ([5.1, 3.5, 1.4, 0.2], 'Iris-setosa'),\n",
              " ([4.7, 3.2, 1.3, 0.2], 'Iris-setosa'),\n",
              " ([5.4, 3.7, 1.5, 0.2], 'Iris-setosa')]"
            ]
          },
          "metadata": {},
          "execution_count": 4
        }
      ]
    },
    {
      "cell_type": "code",
      "metadata": {
        "id": "v_YVAvlyEzWw"
      },
      "source": [
        "## euclidean distance between a, b\n",
        "\n",
        "def distance(a,b) :\n",
        "  s = 0\n",
        "  for ai,bi in zip(a,b):\n",
        "    s += (bi-ai)**2\n",
        "  return s ** 0.5\n",
        "\n",
        "  # 한줄로 표현\n",
        "  # return sum((bi-ai)**2 for ai,bi in zip(a,b))**0.5)"
      ],
      "execution_count": 5,
      "outputs": []
    },
    {
      "cell_type": "code",
      "metadata": {
        "id": "qehqpKRlFx1Q"
      },
      "source": [
        "from collections import Counter\n",
        "\n",
        "\"\"\"\n",
        "  query : 찾고자 하는 점\n",
        "  k : 몇개를 찾을 것인가\n",
        "  train : 어디서 찾을 것인가\n",
        "\n",
        "\"\"\"\n",
        "\n",
        "def knn(query,k, train) : \n",
        "  # train 데이터 중에서 query랑 가장 가까운 k개 찾기\n",
        "  dist_cls = []\n",
        "  for v ,c in train:\n",
        "    dist = distance(query, v)\n",
        "    dist_cls.append((dist, c))\n",
        "  \n",
        "  dist_cls.sort()\n",
        "  dist_cls = dist_cls[:k]\n",
        "\n",
        "  # 가중치 주기\n",
        "  # 가중치를 주어야 더 안정적이다.\n",
        "  cls_cnt = {}\n",
        "  for d, c in dist_cls:\n",
        "    if c not in cls_cnt :\n",
        "      cls_cnt[c] = 0\n",
        "    cls_cnt[c] += 1 # 1/(1+d)\n",
        "  \n",
        "  return max(cls_cnt.items(), key = lambda cc : cc[1])[0]\n",
        "\n",
        "  # 찾은 것 중에서 가장 많이 나온 class return\n",
        "  # cls_cnt = Counter([c for d, c in dist_cls])\n",
        "  # return cls_cnt.most_common(1)[0][0]\n"
      ],
      "execution_count": 45,
      "outputs": []
    },
    {
      "cell_type": "code",
      "metadata": {
        "colab": {
          "base_uri": "https://localhost:8080/",
          "height": 338
        },
        "id": "sl1kmw7fI_ap",
        "outputId": "a2946da2-9719-4e04-b293-14c661b18741"
      },
      "source": [
        "from tqdm import tqdm\n",
        "\n",
        "n_trials = 30\n",
        "acc_avg = [0] * 100\n",
        "for _ in tqdm(range(n_trials)):\n",
        "  random.shuffle(data)\n",
        "  train = data[:-30]\n",
        "  test = data[-30:]\n",
        "\n",
        "  for k in range(1,100): \n",
        "    correct_cnt = 0\n",
        "    for t_vec, t_cls in test :\n",
        "      expected = knn(t_vec, k , train)\n",
        "      if expected == t_cls:\n",
        "        correct_cnt += 1\n",
        "      \n",
        "    accuracy = correct_cnt / len(test)\n",
        "    acc_avg[k] += accuracy\n",
        "  \n",
        "acc_avg = [a/n_trials for a in acc_avg]\n",
        "\n",
        "acc_avg = acc_avg[1:]\n",
        "X = range(1,100)\n",
        "\n",
        "  # X.append(k)\n",
        "  # Y.append(accuracy)\n",
        "  #accuracy\n",
        "\n",
        "\n",
        "plt.figure(figsize=(10,5))\n",
        "plt.plot(X, acc_avg)\n",
        "\n",
        "dic = dict(zip(acc_avg, X))\n",
        "# 가장 높은 정확도 \n",
        "plt.text(dic[max(dic)],max(dic),\n",
        "         str(round(max(dic),3)) + ' Max Point',\n",
        "         color='r',\n",
        "         horizontalalignment='center',\n",
        "         verticalalignment='bottom')\n",
        "\n",
        "plt.show()\n",
        "\n",
        "# query = test[0][0]\n",
        "# ans = knn(query, 5, train)\n",
        "# ans\n",
        "# test[0][1]"
      ],
      "execution_count": 46,
      "outputs": [
        {
          "output_type": "stream",
          "name": "stderr",
          "text": [
            "100%|██████████| 30/30 [00:19<00:00,  1.52it/s]\n"
          ]
        },
        {
          "output_type": "display_data",
          "data": {
            "image/png": "[encoded data removed]",
            "text/plain": [
              "<Figure size 720x360 with 1 Axes>"
            ]
          },
          "metadata": {
            "needs_background": "light"
          }
        }
      ]
    },
    {
      "cell_type": "code",
      "metadata": {
        "id": "7IUb0_MZKNRI"
      },
      "source": [
        ""
      ],
      "execution_count": null,
      "outputs": []
    }
  ]
}