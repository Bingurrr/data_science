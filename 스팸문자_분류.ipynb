{
  "nbformat": 4,
  "nbformat_minor": 0,
  "metadata": {
    "colab": {
      "name": "스팸문자 분류.ipynb",
      "provenance": [],
      "collapsed_sections": []
    },
    "kernelspec": {
      "name": "python3",
      "display_name": "Python 3"
    },
    "language_info": {
      "name": "python"
    }
  },
  "cells": [
    {
      "cell_type": "code",
      "metadata": {
        "id": "Ma88WbjJCZ3q"
      },
      "source": [
        "# data 받아오기, zip 풀기\n",
        "import requests\n",
        "import zipfile\n",
        "import pandas as pd\n",
        "import re\n",
        "import random"
      ],
      "execution_count": 46,
      "outputs": []
    },
    {
      "cell_type": "code",
      "metadata": {
        "id": "FfCZYc5ZE-Ii"
      },
      "source": [
        "# data download, unzip\n",
        "\n",
        "r = requests.get(\"https://www.dt.fee.unicamp.br/~tiago/smsspamcollection/smsspamcollection.zip\")\n",
        "with open(\"sms.zip\",\"wb\") as f:\n",
        "  f.write(r.content)\n",
        "zipfile.ZipFile(\"sms.zip\").extractall(\"./\")"
      ],
      "execution_count": 47,
      "outputs": []
    },
    {
      "cell_type": "code",
      "metadata": {
        "id": "tJzKIl9AFaZs"
      },
      "source": [
        "# loading data\n",
        "\n",
        "data = []\n",
        "with open(\"SMSSpamCollection.txt\", \"r\") as f:\n",
        "  for line in f:\n",
        "    cls, txt = line.strip().split(\"\\t\")\n",
        "    bow = set(re.findall(\"[0-9a-z_]+\", txt.lower()))\n",
        "    data.append([cls,bow])"
      ],
      "execution_count": 48,
      "outputs": []
    },
    {
      "cell_type": "code",
      "metadata": {
        "colab": {
          "base_uri": "https://localhost:8080/"
        },
        "id": "UwPvy6vuHAMG",
        "outputId": "e5e5d502-f8e3-400b-ea56-10f453deb109"
      },
      "source": [
        "# split data into train and test\n",
        "random.shuffle(data)\n",
        "train_size = int(len(data) * 0.8)\n",
        "test_size = len(data) - train_size\n",
        "train = data[:train_size]\n",
        "test = data[train_size:]\n",
        "print(train_size, test_size)"
      ],
      "execution_count": 49,
      "outputs": [
        {
          "output_type": "stream",
          "name": "stdout",
          "text": [
            "4459 1115\n"
          ]
        }
      ]
    },
    {
      "cell_type": "code",
      "metadata": {
        "colab": {
          "base_uri": "https://localhost:8080/"
        },
        "id": "n6VX--RsJ2Zz",
        "outputId": "93651d4c-642f-4027-8ebe-49cfaf23d5f7"
      },
      "source": [
        "# train 데이터에서, naive bayes 계산을 위한 값들을 미리 다 계산해놓기\n",
        "# prior prob, P(spam), P(ham)\n",
        "# P(spam) = spam 문자 수 / 전체 문자 수\n",
        "\"\"\"\n",
        "  라플라스 스무딩 : 관측한 메일에서 한번도 등장하지 않은 단어가 있으면,\n",
        "  예측할 때 결과가 좀 이상해지는 문제\n",
        "  가상의 spam문자, ham문자를 하나씩 추가. 추가한 spam, ham 문자에는 세상 존재하는 모든 단어가 있음\n",
        "  가상의 spam문자, ham문자의 영향력이 지나치면 곤란하기 떄문에 가중치를 줄 수 있다. alpha\n",
        "  시공 폭풍 ㄱㄱ -> P(ㄱㄱ|sapm) = 0\n",
        "  P(spam) * P(시공|spam) * P(폭풍|spam) * P(ㄱㄱ|spam)\n",
        "\n",
        "\"\"\"\n",
        "\n",
        "alpha = 0.5\n",
        "\n",
        "n_total = train_size\n",
        "n_spam = sum(1 for cls, bow in train if cls == 'spam')\n",
        "n_ham = sum(1 for cls, bow in train if cls == 'ham')\n",
        "\n",
        "prior_spam = (n_spam+alpha) / (n_total+2*alpha)\n",
        "prior_ham = (n_ham+alpha) / (n_total+2*alpha)\n",
        "\n",
        "print(prior_spam, prior_ham)"
      ],
      "execution_count": 50,
      "outputs": [
        {
          "output_type": "stream",
          "name": "stdout",
          "text": [
            "0.13329596412556055 0.8667040358744394\n"
          ]
        }
      ]
    },
    {
      "cell_type": "code",
      "metadata": {
        "id": "2MCNXb3uKqDw"
      },
      "source": [
        "# 모든 단어의 likelihood, P(W|spam), P(W|ham)\n",
        "# P(w|spam) = w를 포함하는 spam 문자 수 + alpha / 전체 spam 문자 수 + alpha\n",
        "# P(w|ham = w를 포함하는 ham 문자 수 + alpha / 전체 ham 문자 수 + alpha\n",
        "\n",
        "# dic\n",
        "# spam_words = {}\n",
        "# ham_words = {}\n",
        "# for cls, bow in train :\n",
        "#   for word in bow : \n",
        "#     if cls == \"spam\" :\n",
        "#       if word not in spam_words :\n",
        "#         spam_words[word] = 0\n",
        "#       spam_words[word] += 1\n",
        "#     else :\n",
        "#       if word not in ham_words :\n",
        "#         ham_words[word] = 0\n",
        "#       ham_words[word] += 1\n",
        "\n",
        "# counter 활용\n",
        "from collections import Counter\n",
        "\n",
        "spam_words = {}\n",
        "ham_words = {}\n",
        "\n",
        "spam_words = Counter(word for cls, bow in train\n",
        " for word in bow \n",
        " if cls ==\"spam\")\n",
        "\n",
        "ham_words = Counter(word for cls, bow in train\n",
        " for word in bow \n",
        " if cls ==\"ham\")\n",
        "\n"
      ],
      "execution_count": 51,
      "outputs": []
    },
    {
      "cell_type": "code",
      "metadata": {
        "id": "wsEqWh15NTo3"
      },
      "source": [
        "def predict(bow) :\n",
        "  # spam_scroe = P(spam) * P(w1 | spam) * P(w2 | spam)....\n",
        "  # ham_score = P(ham) * P(w1 | ham) * P(w2 | ham)....\n",
        "\n",
        "  spam_score = prior_spam\n",
        "  ham_score = prior_ham\n",
        "\n",
        "  for word in bow :\n",
        "    spam_score *= (spam_words[word] + alpha)/(n_spam + alpha)\n",
        "    ham_score *= (ham_words[word] + alpha)/(n_ham + alpha)\n",
        "\n",
        "  if spam_score < ham_score :\n",
        "    return \"ham\"\n",
        "  else :\n",
        "    return \"spam\"\n"
      ],
      "execution_count": 52,
      "outputs": []
    },
    {
      "cell_type": "code",
      "metadata": {
        "colab": {
          "base_uri": "https://localhost:8080/"
        },
        "id": "MTrVyxiXOdcB",
        "outputId": "204d2942-b7df-4e65-817c-b286afde36ad"
      },
      "source": [
        "tp, tn, fp, fn = 0,0,0,0\n",
        "\n",
        "for ans, bow in test :\n",
        "  pred = predict(bow)\n",
        "  if pred == 'spam' :\n",
        "    if ans == \"spam\" :\n",
        "      tp += 1\n",
        "    else :\n",
        "      fp += 1\n",
        "  else :\n",
        "    if ans == \"ham\" :\n",
        "      tn += 1\n",
        "    else :\n",
        "      fn += 1\n",
        "    \n",
        "print(f\"tp: {tp}, tn: {tn}, fp: {fp}, fn: {fn}\")\n"
      ],
      "execution_count": 53,
      "outputs": [
        {
          "output_type": "stream",
          "name": "stdout",
          "text": [
            "tp: 153, tn: 802, fp: 160, fn: 0\n"
          ]
        }
      ]
    },
    {
      "cell_type": "code",
      "metadata": {
        "colab": {
          "base_uri": "https://localhost:8080/"
        },
        "id": "rji0IIV4Wbgk",
        "outputId": "068776bf-19ec-411f-c7d6-b1b6246a15ec"
      },
      "source": [
        "# accuracy = 맞힌 수 / 전체 테스트 수\n",
        "\n",
        "acc = (tp + tn) / (tp + tn + fp + fn)\n",
        "\n",
        "# precision = 스펨이야 : 중 실제 스팸인 경우\n",
        "\n",
        "prec = tp / (tp + fp)\n",
        "\n",
        "# recall = 실제 스팸중에 그중 몇개나 찾아 냈는지\n",
        "\n",
        "recall = tp / (tp + fn)\n",
        "\n",
        "# f1 = precision과 recall 의 조화 평균\n",
        "\n",
        "f1 = 2 * prec * recall / (prec + recall)\n",
        "\n",
        "print(f\"acc: {acc:.3f}, prec: {prec:.3f}, recall: {recall:.3f}, f1: {f1:.3f}\")\n"
      ],
      "execution_count": 55,
      "outputs": [
        {
          "output_type": "stream",
          "name": "stdout",
          "text": [
            "acc: 0.857, prec: 0.489, recall: 1.000, f1: 0.657\n"
          ]
        }
      ]
    }
  ]
}